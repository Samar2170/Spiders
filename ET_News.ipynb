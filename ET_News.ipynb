{
 "cells": [
  {
   "cell_type": "code",
   "execution_count": 3,
   "metadata": {},
   "outputs": [],
   "source": [
    "import bs4 as bs \n",
    "import requests\n",
    "\n",
    "def getNewsET():\n",
    "    res_ET = requests.get('https://economictimes.indiatimes.com/headlines.cms')\n",
    "    sit = res_ET.text\n",
    "    soup = bs.BeautifulSoup(sit, 'lxml')\n",
    "    news = []\n",
    "    Divs = soup.find_all('li', class_='flr')\n",
    "    Divs2 = soup.find_all('li', class_='clr flt')\n",
    "    \n",
    "    for div in Divs:\n",
    "        a = div.a['href']\n",
    "        n = div.a.get_text()\n",
    "        dic = {'name':n, 'url':a}\n",
    "        news.append(dic)\n",
    "    \n",
    "    for div in Divs2:\n",
    "        a = div.a['href']\n",
    "        n = div.a.get_text()\n",
    "        dic = {'name':n, 'url':a}\n",
    "        news.append(dic)\n",
    "    return news\n"
   ]
  },
  {
   "cell_type": "code",
   "execution_count": 4,
   "metadata": {},
   "outputs": [],
   "source": [
    "news = getNewsET()"
   ]
  },
  {
   "cell_type": "code",
   "execution_count": 6,
   "metadata": {},
   "outputs": [
    {
     "data": {
      "text/plain": [
       "545"
      ]
     },
     "execution_count": 6,
     "metadata": {},
     "output_type": "execute_result"
    }
   ],
   "source": [
    "len(news)"
   ]
  },
  {
   "cell_type": "code",
   "execution_count": 7,
   "metadata": {},
   "outputs": [],
   "source": [
    "import pandas as pd\n",
    "df = pd.DataFrame(news)"
   ]
  },
  {
   "cell_type": "code",
   "execution_count": 8,
   "metadata": {},
   "outputs": [],
   "source": [
    "df.to_csv('ET_News.csv')"
   ]
  },
  {
   "cell_type": "code",
   "execution_count": null,
   "metadata": {},
   "outputs": [],
   "source": []
  }
 ],
 "metadata": {
  "kernelspec": {
   "display_name": "Python 3",
   "language": "python",
   "name": "python3"
  },
  "language_info": {
   "codemirror_mode": {
    "name": "ipython",
    "version": 3
   },
   "file_extension": ".py",
   "mimetype": "text/x-python",
   "name": "python",
   "nbconvert_exporter": "python",
   "pygments_lexer": "ipython3",
   "version": "3.8.5"
  }
 },
 "nbformat": 4,
 "nbformat_minor": 4
}
